{
 "cells": [
  {
   "cell_type": "code",
   "execution_count": null,
   "id": "95b0ac38-71e2-4688-9717-d434541aaba8",
   "metadata": {},
   "outputs": [],
   "source": []
  }
 ],
 "metadata": {
  "kernelspec": {
   "display_name": "",
   "name": ""
  },
  "language_info": {
   "name": ""
  }
 },
 "nbformat": 4,
 "nbformat_minor": 5
}
