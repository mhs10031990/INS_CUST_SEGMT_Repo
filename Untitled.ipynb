{
 "cells": [
  {
   "cell_type": "code",
   "execution_count": null,
   "id": "c25e29ef-eec2-49e7-ad91-3b0083f6c100",
   "metadata": {},
   "outputs": [],
   "source": []
  }
 ],
 "metadata": {
  "kernelspec": {
   "display_name": "",
   "name": ""
  },
  "language_info": {
   "name": ""
  }
 },
 "nbformat": 4,
 "nbformat_minor": 5
}
