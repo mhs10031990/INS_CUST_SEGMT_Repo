{
 "cells": [
  {
   "cell_type": "markdown",
   "id": "70bcab9b",
   "metadata": {},
   "source": [
    "# Use Customer_Segmentation Notebook Template"
   ]
  },
  {
   "cell_type": "code",
   "execution_count": 1,
   "id": "7bcbf530-1373-44bc-8a47-a6806ca39f0c",
   "metadata": {},
   "outputs": [],
   "source": [
    "!pip install --q --upgrade pip"
   ]
  },
  {
   "cell_type": "code",
   "execution_count": 2,
   "id": "8a75f9ef-c6f8-4356-a428-d35d85a686da",
   "metadata": {},
   "outputs": [],
   "source": [
    "!pip install --q seaborn"
   ]
  },
  {
   "cell_type": "markdown",
   "id": "76d31283-857d-4d45-b85d-33ae6a5aa613",
   "metadata": {},
   "source": [
    "# Kernel Restart here"
   ]
  },
  {
   "cell_type": "code",
   "execution_count": 1,
   "id": "af46dab4",
   "metadata": {
    "scrolled": true
   },
   "outputs": [],
   "source": [
    "import numpy as np # linear algebra\n",
    "import pandas as pd\n",
    "\n",
    "import matplotlib.pyplot as plt\n",
    "import seaborn as sns\n",
    "\n",
    "from sklearn.model_selection import train_test_split\n",
    "from sklearn.tree import DecisionTreeClassifier\n",
    "from sklearn.metrics import classification_report, confusion_matrix\n",
    "\n",
    "from fosforml.model_manager.snowflakesession import get_session\n",
    "my_session = get_session()\n",
    "\n",
    "import warnings\n",
    "warnings.filterwarnings('ignore')"
   ]
  },
  {
   "cell_type": "code",
   "execution_count": 2,
   "id": "af9a4ec4-ef09-4a59-b437-1a545c5b7147",
   "metadata": {},
   "outputs": [],
   "source": [
    "table_name = 'CUSTOMER_DATA_INSIGHT_TRAIN_OUTPUT'\n",
    "\n",
    "sf_df = my_session.sql(\"select * from {}\".format(table_name))\n",
    "train = sf_df.to_pandas()"
   ]
  },
  {
   "cell_type": "code",
   "execution_count": 3,
   "id": "b38c62e0-4d2a-4c7e-9659-06d3812077a0",
   "metadata": {},
   "outputs": [],
   "source": [
    "table_name = 'CUSTOMER_DATA_INSIGHT_TEST_OUTPUT'\n",
    "\n",
    "sf_df = my_session.sql(\"select * from {}\".format(table_name))\n",
    "test = sf_df.to_pandas()"
   ]
  },
  {
   "cell_type": "code",
   "execution_count": 4,
   "id": "b4bd561f-b2dd-44fc-ac44-a30a6b7e6557",
   "metadata": {},
   "outputs": [
    {
     "data": {
      "text/plain": [
       "(40000, 32)"
      ]
     },
     "execution_count": 4,
     "metadata": {},
     "output_type": "execute_result"
    }
   ],
   "source": [
    "test.shape"
   ]
  },
  {
   "cell_type": "code",
   "execution_count": 5,
   "id": "ef7c518a-e112-4900-8daf-24a712d19ff6",
   "metadata": {},
   "outputs": [],
   "source": [
    "train = train[['CUSTOMER_ID', 'DATE', 'AGE', 'SEX', 'EDUCATION_LEVEL',\n",
    "       'EMPLOYMENT_STATUS', 'HOBBIES', 'MARITAL_STATUS', 'DEPENDENTS',\n",
    "       'REGISTRATION_DATE', 'BANK_ACCOUNT_TYPE', 'BALANCE',\n",
    "       'BALANCE_FREQUENCY', 'CREDIT_LIMIT', 'CASH_ADVANCE',\n",
    "       'CASH_ADVANCE_FREQUENCY', 'CASH_ADVANCE_TRX', 'PURCHASES',\n",
    "       'ONEOFF_PURCHASES', 'INSTALLMENTS_PURCHASES', 'PURCHASES_FREQUENCY',\n",
    "       'ONEOFF_PURCHASES_FREQUENCY', 'PURCHASES_INSTALLMENTS_FREQUENCY',\n",
    "       'PURCHASES_TRX', 'PAYMENTS', 'MINIMUM_PAYMENTS', 'PRC_FULL_PAYMENT',\n",
    "       'CLUSTER', 'CLUSTER_TYPE']]"
   ]
  },
  {
   "cell_type": "code",
   "execution_count": 6,
   "id": "f406fe9a-6889-4dc1-94ad-553387dd6908",
   "metadata": {},
   "outputs": [],
   "source": [
    "test = test[['CUSTOMER_ID', 'DATE', 'AGE', 'SEX', 'EDUCATION_LEVEL',\n",
    "       'EMPLOYMENT_STATUS', 'HOBBIES', 'MARITAL_STATUS', 'DEPENDENTS',\n",
    "       'REGISTRATION_DATE', 'BANK_ACCOUNT_TYPE', 'BALANCE',\n",
    "       'BALANCE_FREQUENCY', 'CREDIT_LIMIT', 'CASH_ADVANCE',\n",
    "       'CASH_ADVANCE_FREQUENCY', 'CASH_ADVANCE_TRX', 'PURCHASES',\n",
    "       'ONEOFF_PURCHASES', 'INSTALLMENTS_PURCHASES', 'PURCHASES_FREQUENCY',\n",
    "       'ONEOFF_PURCHASES_FREQUENCY', 'PURCHASES_INSTALLMENTS_FREQUENCY',\n",
    "       'PURCHASES_TRX', 'PAYMENTS', 'MINIMUM_PAYMENTS', 'PRC_FULL_PAYMENT',\n",
    "       'CLUSTER', 'CLUSTER_TYPE']]"
   ]
  },
  {
   "cell_type": "code",
   "execution_count": 7,
   "id": "6853da12-e68f-4b97-9bdd-713828a83edc",
   "metadata": {},
   "outputs": [],
   "source": [
    "df = pd.concat([train, test], axis=0)"
   ]
  },
  {
   "cell_type": "code",
   "execution_count": 8,
   "id": "0a85374f-08b3-43ee-a3cf-7981469d2b3d",
   "metadata": {},
   "outputs": [
    {
     "data": {
      "text/plain": [
       "(120000, 29)"
      ]
     },
     "execution_count": 8,
     "metadata": {},
     "output_type": "execute_result"
    }
   ],
   "source": [
    "df.shape"
   ]
  },
  {
   "cell_type": "code",
   "execution_count": 9,
   "id": "2ea3f727",
   "metadata": {},
   "outputs": [
    {
     "data": {
      "text/html": [
       "<div>\n",
       "<style scoped>\n",
       "    .dataframe tbody tr th:only-of-type {\n",
       "        vertical-align: middle;\n",
       "    }\n",
       "\n",
       "    .dataframe tbody tr th {\n",
       "        vertical-align: top;\n",
       "    }\n",
       "\n",
       "    .dataframe thead th {\n",
       "        text-align: right;\n",
       "    }\n",
       "</style>\n",
       "<table border=\"1\" class=\"dataframe\">\n",
       "  <thead>\n",
       "    <tr style=\"text-align: right;\">\n",
       "      <th></th>\n",
       "      <th>CUSTOMER_ID</th>\n",
       "      <th>DATE</th>\n",
       "      <th>AGE</th>\n",
       "      <th>SEX</th>\n",
       "      <th>EDUCATION_LEVEL</th>\n",
       "      <th>EMPLOYMENT_STATUS</th>\n",
       "      <th>HOBBIES</th>\n",
       "      <th>MARITAL_STATUS</th>\n",
       "      <th>DEPENDENTS</th>\n",
       "      <th>REGISTRATION_DATE</th>\n",
       "      <th>...</th>\n",
       "      <th>INSTALLMENTS_PURCHASES</th>\n",
       "      <th>PURCHASES_FREQUENCY</th>\n",
       "      <th>ONEOFF_PURCHASES_FREQUENCY</th>\n",
       "      <th>PURCHASES_INSTALLMENTS_FREQUENCY</th>\n",
       "      <th>PURCHASES_TRX</th>\n",
       "      <th>PAYMENTS</th>\n",
       "      <th>MINIMUM_PAYMENTS</th>\n",
       "      <th>PRC_FULL_PAYMENT</th>\n",
       "      <th>CLUSTER</th>\n",
       "      <th>CLUSTER_TYPE</th>\n",
       "    </tr>\n",
       "  </thead>\n",
       "  <tbody>\n",
       "    <tr>\n",
       "      <th>39995</th>\n",
       "      <td>60e2911b-6a1c-4d35-bd6f-700a96055b7d</td>\n",
       "      <td>2022-12-01</td>\n",
       "      <td>32</td>\n",
       "      <td>FEMALE</td>\n",
       "      <td>JD</td>\n",
       "      <td>Employed</td>\n",
       "      <td>reading</td>\n",
       "      <td>Single</td>\n",
       "      <td>One Dependent</td>\n",
       "      <td>2020-02-12</td>\n",
       "      <td>...</td>\n",
       "      <td>0.0000</td>\n",
       "      <td>Very low</td>\n",
       "      <td>Very low</td>\n",
       "      <td>Very low</td>\n",
       "      <td>0.00</td>\n",
       "      <td>1911.368074</td>\n",
       "      <td>381.694812</td>\n",
       "      <td>0.00</td>\n",
       "      <td>2</td>\n",
       "      <td>Cash Advance Users</td>\n",
       "    </tr>\n",
       "    <tr>\n",
       "      <th>39996</th>\n",
       "      <td>96454f77-584a-442b-8f70-bc38e8630908</td>\n",
       "      <td>2024-02-01</td>\n",
       "      <td>25</td>\n",
       "      <td>FEMALE</td>\n",
       "      <td>JD</td>\n",
       "      <td>Unemployed</td>\n",
       "      <td>reading</td>\n",
       "      <td>Single</td>\n",
       "      <td>One Dependent</td>\n",
       "      <td>2017-04-12</td>\n",
       "      <td>...</td>\n",
       "      <td>109.2648</td>\n",
       "      <td>Low</td>\n",
       "      <td>Very low</td>\n",
       "      <td>Low</td>\n",
       "      <td>4.32</td>\n",
       "      <td>0.000000</td>\n",
       "      <td>0.000000</td>\n",
       "      <td>0.00</td>\n",
       "      <td>0</td>\n",
       "      <td>Conservative Spenders</td>\n",
       "    </tr>\n",
       "    <tr>\n",
       "      <th>39997</th>\n",
       "      <td>1429938e-ab3d-4d43-b0a4-e0d3331501a6</td>\n",
       "      <td>2024-05-01</td>\n",
       "      <td>33</td>\n",
       "      <td>FEMALE</td>\n",
       "      <td>JD</td>\n",
       "      <td>Unemployed</td>\n",
       "      <td>hiking</td>\n",
       "      <td>Single</td>\n",
       "      <td>One Dependent</td>\n",
       "      <td>2019-04-12</td>\n",
       "      <td>...</td>\n",
       "      <td>269.8800</td>\n",
       "      <td>Very high</td>\n",
       "      <td>Very low</td>\n",
       "      <td>Very high</td>\n",
       "      <td>26.00</td>\n",
       "      <td>4086.277963</td>\n",
       "      <td>1723.818986</td>\n",
       "      <td>0.50</td>\n",
       "      <td>0</td>\n",
       "      <td>Conservative Spenders</td>\n",
       "    </tr>\n",
       "    <tr>\n",
       "      <th>39998</th>\n",
       "      <td>558c05aa-e580-47a3-8257-c3b9dbbcca6f</td>\n",
       "      <td>2023-09-01</td>\n",
       "      <td>33</td>\n",
       "      <td>FEMALE</td>\n",
       "      <td>MD</td>\n",
       "      <td>Unemployed</td>\n",
       "      <td>board-games</td>\n",
       "      <td>Single</td>\n",
       "      <td>One Dependent</td>\n",
       "      <td>2005-11-12</td>\n",
       "      <td>...</td>\n",
       "      <td>250.9884</td>\n",
       "      <td>Very high</td>\n",
       "      <td>Very low</td>\n",
       "      <td>Very high</td>\n",
       "      <td>28.08</td>\n",
       "      <td>4372.317420</td>\n",
       "      <td>1663.485321</td>\n",
       "      <td>0.54</td>\n",
       "      <td>0</td>\n",
       "      <td>Conservative Spenders</td>\n",
       "    </tr>\n",
       "    <tr>\n",
       "      <th>39999</th>\n",
       "      <td>1e307f04-29b5-497d-b47f-e1aa0ee43fa0</td>\n",
       "      <td>2023-11-01</td>\n",
       "      <td>41</td>\n",
       "      <td>MALE</td>\n",
       "      <td>JD</td>\n",
       "      <td>Unemployed</td>\n",
       "      <td>base-jumping</td>\n",
       "      <td>Single</td>\n",
       "      <td>Two Dependents</td>\n",
       "      <td>2021-09-12</td>\n",
       "      <td>...</td>\n",
       "      <td>2548.1092</td>\n",
       "      <td>Very high</td>\n",
       "      <td>Very low</td>\n",
       "      <td>Very high</td>\n",
       "      <td>46.20</td>\n",
       "      <td>2666.034909</td>\n",
       "      <td>161.259890</td>\n",
       "      <td>0.70</td>\n",
       "      <td>3</td>\n",
       "      <td>Active Credit Users</td>\n",
       "    </tr>\n",
       "  </tbody>\n",
       "</table>\n",
       "<p>5 rows × 29 columns</p>\n",
       "</div>"
      ],
      "text/plain": [
       "                                CUSTOMER_ID        DATE  AGE     SEX  \\\n",
       "39995  60e2911b-6a1c-4d35-bd6f-700a96055b7d  2022-12-01   32  FEMALE   \n",
       "39996  96454f77-584a-442b-8f70-bc38e8630908  2024-02-01   25  FEMALE   \n",
       "39997  1429938e-ab3d-4d43-b0a4-e0d3331501a6  2024-05-01   33  FEMALE   \n",
       "39998  558c05aa-e580-47a3-8257-c3b9dbbcca6f  2023-09-01   33  FEMALE   \n",
       "39999  1e307f04-29b5-497d-b47f-e1aa0ee43fa0  2023-11-01   41    MALE   \n",
       "\n",
       "      EDUCATION_LEVEL EMPLOYMENT_STATUS       HOBBIES MARITAL_STATUS  \\\n",
       "39995              JD          Employed       reading         Single   \n",
       "39996              JD        Unemployed       reading         Single   \n",
       "39997              JD        Unemployed        hiking         Single   \n",
       "39998              MD        Unemployed   board-games         Single   \n",
       "39999              JD        Unemployed  base-jumping         Single   \n",
       "\n",
       "           DEPENDENTS REGISTRATION_DATE  ... INSTALLMENTS_PURCHASES  \\\n",
       "39995   One Dependent        2020-02-12  ...                 0.0000   \n",
       "39996   One Dependent        2017-04-12  ...               109.2648   \n",
       "39997   One Dependent        2019-04-12  ...               269.8800   \n",
       "39998   One Dependent        2005-11-12  ...               250.9884   \n",
       "39999  Two Dependents        2021-09-12  ...              2548.1092   \n",
       "\n",
       "       PURCHASES_FREQUENCY ONEOFF_PURCHASES_FREQUENCY  \\\n",
       "39995             Very low                   Very low   \n",
       "39996                  Low                   Very low   \n",
       "39997            Very high                   Very low   \n",
       "39998            Very high                   Very low   \n",
       "39999            Very high                   Very low   \n",
       "\n",
       "       PURCHASES_INSTALLMENTS_FREQUENCY  PURCHASES_TRX     PAYMENTS  \\\n",
       "39995                          Very low           0.00  1911.368074   \n",
       "39996                               Low           4.32     0.000000   \n",
       "39997                         Very high          26.00  4086.277963   \n",
       "39998                         Very high          28.08  4372.317420   \n",
       "39999                         Very high          46.20  2666.034909   \n",
       "\n",
       "       MINIMUM_PAYMENTS  PRC_FULL_PAYMENT  CLUSTER           CLUSTER_TYPE  \n",
       "39995        381.694812              0.00        2     Cash Advance Users  \n",
       "39996          0.000000              0.00        0  Conservative Spenders  \n",
       "39997       1723.818986              0.50        0  Conservative Spenders  \n",
       "39998       1663.485321              0.54        0  Conservative Spenders  \n",
       "39999        161.259890              0.70        3    Active Credit Users  \n",
       "\n",
       "[5 rows x 29 columns]"
      ]
     },
     "execution_count": 9,
     "metadata": {},
     "output_type": "execute_result"
    }
   ],
   "source": [
    "df.tail()"
   ]
  },
  {
   "cell_type": "code",
   "execution_count": 10,
   "id": "d41ed480",
   "metadata": {},
   "outputs": [],
   "source": [
    "to_drop = ['CUSTOMER_ID','DATE','AGE','SEX','EDUCATION_LEVEL','EMPLOYMENT_STATUS','HOBBIES','MARITAL_STATUS','BANK_ACCOUNT_TYPE',\n",
    " 'DEPENDENTS','REGISTRATION_DATE','PURCHASES_FREQUENCY','ONEOFF_PURCHASES_FREQUENCY','PURCHASES_INSTALLMENTS_FREQUENCY','BALANCE_FREQUENCY','CLUSTER_TYPE']"
   ]
  },
  {
   "cell_type": "code",
   "execution_count": 11,
   "id": "8ec73c6f",
   "metadata": {},
   "outputs": [],
   "source": [
    "df.drop(to_drop, axis= 1, inplace= True)"
   ]
  },
  {
   "cell_type": "code",
   "execution_count": 12,
   "id": "3f8e2352",
   "metadata": {
    "scrolled": true
   },
   "outputs": [
    {
     "name": "stdout",
     "output_type": "stream",
     "text": [
      "<class 'pandas.core.frame.DataFrame'>\n",
      "Index: 120000 entries, 0 to 39999\n",
      "Data columns (total 13 columns):\n",
      " #   Column                  Non-Null Count   Dtype  \n",
      "---  ------                  --------------   -----  \n",
      " 0   BALANCE                 120000 non-null  float64\n",
      " 1   CREDIT_LIMIT            120000 non-null  float64\n",
      " 2   CASH_ADVANCE            120000 non-null  float64\n",
      " 3   CASH_ADVANCE_FREQUENCY  120000 non-null  float64\n",
      " 4   CASH_ADVANCE_TRX        120000 non-null  float64\n",
      " 5   PURCHASES               120000 non-null  float64\n",
      " 6   ONEOFF_PURCHASES        120000 non-null  float64\n",
      " 7   INSTALLMENTS_PURCHASES  120000 non-null  float64\n",
      " 8   PURCHASES_TRX           120000 non-null  float64\n",
      " 9   PAYMENTS                120000 non-null  float64\n",
      " 10  MINIMUM_PAYMENTS        120000 non-null  float64\n",
      " 11  PRC_FULL_PAYMENT        120000 non-null  float64\n",
      " 12  CLUSTER                 120000 non-null  int8   \n",
      "dtypes: float64(12), int8(1)\n",
      "memory usage: 12.0 MB\n"
     ]
    }
   ],
   "source": [
    "df.info()"
   ]
  },
  {
   "cell_type": "code",
   "execution_count": 13,
   "id": "2433e840",
   "metadata": {},
   "outputs": [],
   "source": [
    "X = df.drop(['CLUSTER'],axis = 1 )\n",
    "y = df[['CLUSTER']]\n",
    "X_train, X_test, y_train, y_test = train_test_split(X, y, test_size = 0.3,random_state = 101)"
   ]
  },
  {
   "cell_type": "code",
   "execution_count": 14,
   "id": "14c79355",
   "metadata": {},
   "outputs": [
    {
     "data": {
      "text/plain": [
       "((84000, 12), (36000, 12))"
      ]
     },
     "execution_count": 14,
     "metadata": {},
     "output_type": "execute_result"
    }
   ],
   "source": [
    "X_train.shape, X_test.shape"
   ]
  },
  {
   "cell_type": "markdown",
   "id": "940236ef",
   "metadata": {},
   "source": [
    "# Decision Tree Classifier"
   ]
  },
  {
   "cell_type": "code",
   "execution_count": 15,
   "id": "2ebed219",
   "metadata": {},
   "outputs": [],
   "source": [
    "#Training our algorithm\n",
    "clf = DecisionTreeClassifier()\n",
    "clf.fit(X_train, y_train)\n",
    "clf_prediction = clf.predict(X_test)"
   ]
  },
  {
   "cell_type": "code",
   "execution_count": 16,
   "id": "7861a2c5",
   "metadata": {},
   "outputs": [
    {
     "name": "stdout",
     "output_type": "stream",
     "text": [
      "[[25046     0   126   128]\n",
      " [    0   307     0     8]\n",
      " [  132     0  5800    31]\n",
      " [  108    12    22  4280]]\n"
     ]
    }
   ],
   "source": [
    "#Checking our prediction accuracy score\n",
    "print(confusion_matrix(y_test, clf_prediction))"
   ]
  },
  {
   "cell_type": "code",
   "execution_count": 17,
   "id": "8e70ff25",
   "metadata": {
    "scrolled": true
   },
   "outputs": [
    {
     "name": "stdout",
     "output_type": "stream",
     "text": [
      "              precision    recall  f1-score   support\n",
      "\n",
      "           0       0.99      0.99      0.99     25300\n",
      "           1       0.96      0.97      0.97       315\n",
      "           2       0.98      0.97      0.97      5963\n",
      "           3       0.96      0.97      0.97      4422\n",
      "\n",
      "    accuracy                           0.98     36000\n",
      "   macro avg       0.97      0.98      0.97     36000\n",
      "weighted avg       0.98      0.98      0.98     36000\n",
      "\n"
     ]
    }
   ],
   "source": [
    "print(classification_report(y_test, clf_prediction))"
   ]
  },
  {
   "cell_type": "code",
   "execution_count": 18,
   "id": "cfbf63ff",
   "metadata": {
    "scrolled": true
   },
   "outputs": [
    {
     "data": {
      "text/plain": [
       "array([0.07993775, 0.03887377, 0.28584169, 0.03316945, 0.10489753,\n",
       "       0.34025286, 0.00675092, 0.01335958, 0.04494634, 0.02685201,\n",
       "       0.01197134, 0.01314676])"
      ]
     },
     "execution_count": 18,
     "metadata": {},
     "output_type": "execute_result"
    }
   ],
   "source": [
    "clf.feature_importances_"
   ]
  },
  {
   "cell_type": "code",
   "execution_count": 19,
   "id": "637cd870",
   "metadata": {},
   "outputs": [
    {
     "data": {
      "text/plain": [
       "PURCHASES                 0.340253\n",
       "CASH_ADVANCE              0.285842\n",
       "CASH_ADVANCE_TRX          0.104898\n",
       "BALANCE                   0.079938\n",
       "PURCHASES_TRX             0.044946\n",
       "CREDIT_LIMIT              0.038874\n",
       "CASH_ADVANCE_FREQUENCY    0.033169\n",
       "PAYMENTS                  0.026852\n",
       "INSTALLMENTS_PURCHASES    0.013360\n",
       "PRC_FULL_PAYMENT          0.013147\n",
       "MINIMUM_PAYMENTS          0.011971\n",
       "ONEOFF_PURCHASES          0.006751\n",
       "dtype: float64"
      ]
     },
     "execution_count": 19,
     "metadata": {},
     "output_type": "execute_result"
    }
   ],
   "source": [
    "pd.Series(clf.feature_importances_,index=X_train.columns).sort_values(ascending=False)"
   ]
  },
  {
   "cell_type": "markdown",
   "id": "d6b01c1b",
   "metadata": {},
   "source": [
    "# Model registration Code"
   ]
  },
  {
   "cell_type": "code",
   "execution_count": 20,
   "id": "37569a45-331f-4343-9376-3334270f7188",
   "metadata": {},
   "outputs": [],
   "source": [
    "y_pred = pd.DataFrame(clf_prediction, columns=['PREDICTION'])"
   ]
  },
  {
   "cell_type": "code",
   "execution_count": 21,
   "id": "7029d94e-cb82-4b53-8efc-7aed0615f5cb",
   "metadata": {},
   "outputs": [
    {
     "data": {
      "text/plain": [
       "(pandas.core.frame.DataFrame,\n",
       " pandas.core.frame.DataFrame,\n",
       " pandas.core.frame.DataFrame,\n",
       " pandas.core.frame.DataFrame,\n",
       " pandas.core.frame.DataFrame)"
      ]
     },
     "execution_count": 21,
     "metadata": {},
     "output_type": "execute_result"
    }
   ],
   "source": [
    "type(X_train),type(X_test),type(y_train), type(y_test), type(y_pred)"
   ]
  },
  {
   "cell_type": "code",
   "execution_count": 22,
   "id": "62365834-7e25-49c1-9ac2-40a1cba63ca7",
   "metadata": {},
   "outputs": [],
   "source": [
    "from fosforml import register_model"
   ]
  },
  {
   "cell_type": "code",
   "execution_count": 23,
   "id": "c27869eb-5705-4f39-bf14-b2cef3181b0d",
   "metadata": {},
   "outputs": [
    {
     "name": "stderr",
     "output_type": "stream",
     "text": [
      "Got error object of type 'NoneType' has no len() when trying to read default values from function: <class 'snowflake.ml.modeling.metrics.classification._register_confusion_matrix_computer.<locals>.ConfusionMatrixComputer'>. Proceeding without creating optional arguments\n",
      "Got error object of type 'NoneType' has no len() when trying to read default values from function: <class 'snowflake.ml.modeling.metrics.metrics_utils.register_accumulator_udtf.<locals>.Accumulator'>. Proceeding without creating optional arguments\n"
     ]
    },
    {
     "name": "stdout",
     "output_type": "stream",
     "text": [
      "Calculating build time metrics\n",
      "\n",
      "Progress: ██████████████                                                         20.0%\n",
      "Calculating build time metrics\n",
      "\n",
      "Progress: ████████████████████████████                                           40.0%\n"
     ]
    },
    {
     "name": "stderr",
     "output_type": "stream",
     "text": [
      "Got error object of type 'NoneType' has no len() when trying to read default values from function: <class 'snowflake.ml.modeling.metrics.classification._register_multilabel_confusion_matrix_computer.<locals>.MultilabelConfusionMatrixComputer'>. Proceeding without creating optional arguments\n",
      "The version of package 'scikit-learn' in the local environment is 1.3.2, which does not fit the criteria for the requirement 'scikit-learn<1.4'. Your UDF might not work when the package version is different between the server and your local environment.\n",
      "DataFrame.flatten() is deprecated since 0.7.0. Use `DataFrame.join_table_function()` instead.\n",
      "Got error object of type 'NoneType' has no len() when trying to read default values from function: <class 'snowflake.ml.modeling.metrics.classification._register_multilabel_confusion_matrix_computer.<locals>.MultilabelConfusionMatrixComputer'>. Proceeding without creating optional arguments\n",
      "The version of package 'scikit-learn' in the local environment is 1.3.2, which does not fit the criteria for the requirement 'scikit-learn<1.4'. Your UDF might not work when the package version is different between the server and your local environment.\n",
      "Got error object of type 'NoneType' has no len() when trying to read default values from function: <class 'snowflake.ml.modeling.metrics.classification._register_multilabel_confusion_matrix_computer.<locals>.MultilabelConfusionMatrixComputer'>. Proceeding without creating optional arguments\n",
      "The version of package 'scikit-learn' in the local environment is 1.3.2, which does not fit the criteria for the requirement 'scikit-learn<1.4'. Your UDF might not work when the package version is different between the server and your local environment.\n"
     ]
    },
    {
     "name": "stdout",
     "output_type": "stream",
     "text": [
      "Calculating build time metrics\n",
      "\n",
      "Progress: ██████████████████████████████████████████                             60.0%\n",
      "Calculating build time metrics\n",
      "\n",
      "Progress: ████████████████████████████████████████████████████████               80.0%\n",
      "Calculating build time metrics\n",
      "\n",
      "Progress: ██████████████████████████████████████████████████████████████████████ 100.0%\n"
     ]
    },
    {
     "data": {
      "text/plain": [
       "\"Model 'MODEL_BDB4A35C_1386_4E11_A417_3344FF06266B_FDC_DECISION_TREE_CLUSTER_CLASSIFIER' registered successfully.\""
      ]
     },
     "execution_count": 23,
     "metadata": {},
     "output_type": "execute_result"
    }
   ],
   "source": [
    "## registering the model in Fosfor Insight Designer.\n",
    "register_model(\n",
    "    model_obj=clf, \n",
    "    session=my_session,\n",
    "    x_train=X_train,\n",
    "    y_train=y_train,\n",
    "    x_test=X_test,\n",
    "    y_test=y_test,\n",
    "    y_pred=y_pred,\n",
    "    source=\"Notebook\",\n",
    "    dataset_name=\"CUSTOMER_DATA_INSIGHT_TEST_OUTPUT\",\n",
    "    dataset_source=\"Snowflake\",\n",
    "    #dataset_source=\"InMemory\",\n",
    "    name=\"Decision_Tree_Cluster_Classifier\",\n",
    "    description=\"Customer_Segmentation_Dtree_Cluster_Classifier\",\n",
    "    flavour=\"sklearn\",\n",
    "    model_type=\"classification\",\n",
    "    conda_dependencies=[\"scikit-learn==1.3.2\"]\n",
    ")"
   ]
  },
  {
   "cell_type": "markdown",
   "id": "071dec83",
   "metadata": {},
   "source": [
    "# Another Version"
   ]
  },
  {
   "cell_type": "code",
   "execution_count": 24,
   "id": "d1482398",
   "metadata": {},
   "outputs": [],
   "source": [
    "clf_prediction = clf.predict(X_train)"
   ]
  },
  {
   "cell_type": "code",
   "execution_count": 25,
   "id": "10f1e6bb-39a1-41df-aa2c-820b8d474e07",
   "metadata": {},
   "outputs": [],
   "source": [
    "y_pred = pd.DataFrame(clf_prediction, columns=['PREDICTION'])"
   ]
  },
  {
   "cell_type": "code",
   "execution_count": 26,
   "id": "053f59e5-1ded-4a4d-842d-5e81d137324d",
   "metadata": {},
   "outputs": [
    {
     "name": "stderr",
     "output_type": "stream",
     "text": [
      "WARNING:snowflake.snowpark._internal.udf_utils:Got error object of type 'NoneType' has no len() when trying to read default values from function: <class 'snowflake.ml.modeling.metrics.classification._register_confusion_matrix_computer.<locals>.ConfusionMatrixComputer'>. Proceeding without creating optional arguments\n",
      "WARNING:snowflake.snowpark._internal.udf_utils:Got error object of type 'NoneType' has no len() when trying to read default values from function: <class 'snowflake.ml.modeling.metrics.metrics_utils.register_accumulator_udtf.<locals>.Accumulator'>. Proceeding without creating optional arguments\n",
      "WARNING:snowflake.snowpark._internal.udf_utils:Got error object of type 'NoneType' has no len() when trying to read default values from function: <class 'snowflake.ml.modeling.metrics.classification._register_multilabel_confusion_matrix_computer.<locals>.MultilabelConfusionMatrixComputer'>. Proceeding without creating optional arguments\n"
     ]
    },
    {
     "name": "stdout",
     "output_type": "stream",
     "text": [
      "Calculating build time metrics\n",
      "\n",
      "Progress: ██████████████                                                         20.0%\n",
      "Calculating build time metrics\n",
      "\n",
      "Progress: ████████████████████████████                                           40.0%\n"
     ]
    },
    {
     "name": "stderr",
     "output_type": "stream",
     "text": [
      "WARNING:snowflake.snowpark.session:The version of package 'scikit-learn' in the local environment is 1.3.2, which does not fit the criteria for the requirement 'scikit-learn<1.4'. Your UDF might not work when the package version is different between the server and your local environment.\n",
      "WARNING:snowflake.snowpark._internal.udf_utils:Got error object of type 'NoneType' has no len() when trying to read default values from function: <class 'snowflake.ml.modeling.metrics.classification._register_multilabel_confusion_matrix_computer.<locals>.MultilabelConfusionMatrixComputer'>. Proceeding without creating optional arguments\n"
     ]
    },
    {
     "name": "stdout",
     "output_type": "stream",
     "text": [
      "(1300) (1304): 01b6cc42-070e-58e8-0072-f30310704ffe: 100357 (P0000): Python Interpreter Error:\n",
      "Traceback (most recent call last):\n",
      "  File \"/opt/conda/lib/python3.9/site-packages/snowflake/ml/modeling/metrics/classification.py\", line 1059, in end_partition\n",
      "  File \"/usr/lib/python_udf/8f8b01a8f02996ac566993cab9e8f275a40a273ccd1b40bc7e44bac11698e30b/lib/python3.9/site-packages/sklearn/utils/_param_validation.py\", line 211, in wrapper\n",
      "    return func(*args, **kwargs)\n",
      "  File \"/usr/lib/python_udf/8f8b01a8f02996ac566993cab9e8f275a40a273ccd1b40bc7e44bac11698e30b/lib/python3.9/site-packages/sklearn/metrics/_classification.py\", line 505, in multilabel_confusion_matrix\n",
      "    y_type, y_true, y_pred = _check_targets(y_true, y_pred)\n",
      "  File \"/usr/lib/python_udf/8f8b01a8f02996ac566993cab9e8f275a40a273ccd1b40bc7e44bac11698e30b/lib/python3.9/site-packages/sklearn/metrics/_classification.py\", line 93, in _check_targets\n",
      "    raise ValueError(\n",
      "ValueError: Classification metrics can't handle a mix of unknown and multiclass targets\n",
      " in function SNOWPARK_TEMP_TABLE_FUNCTION_5JSSQ3I3T9 with handler compute\n"
     ]
    },
    {
     "name": "stderr",
     "output_type": "stream",
     "text": [
      "WARNING:snowflake.snowpark.session:The version of package 'scikit-learn' in the local environment is 1.3.2, which does not fit the criteria for the requirement 'scikit-learn<1.4'. Your UDF might not work when the package version is different between the server and your local environment.\n",
      "WARNING:snowflake.snowpark._internal.udf_utils:Got error object of type 'NoneType' has no len() when trying to read default values from function: <class 'snowflake.ml.modeling.metrics.classification._register_multilabel_confusion_matrix_computer.<locals>.MultilabelConfusionMatrixComputer'>. Proceeding without creating optional arguments\n"
     ]
    },
    {
     "name": "stdout",
     "output_type": "stream",
     "text": [
      "(1300) (1304): 01b6cc42-070e-58e8-0072-f3031087201e: 100357 (P0000): Python Interpreter Error:\n",
      "Traceback (most recent call last):\n",
      "  File \"/opt/conda/lib/python3.9/site-packages/snowflake/ml/modeling/metrics/classification.py\", line 1059, in end_partition\n",
      "  File \"/usr/lib/python_udf/8f8b01a8f02996ac566993cab9e8f275a40a273ccd1b40bc7e44bac11698e30b/lib/python3.9/site-packages/sklearn/utils/_param_validation.py\", line 211, in wrapper\n",
      "    return func(*args, **kwargs)\n",
      "  File \"/usr/lib/python_udf/8f8b01a8f02996ac566993cab9e8f275a40a273ccd1b40bc7e44bac11698e30b/lib/python3.9/site-packages/sklearn/metrics/_classification.py\", line 505, in multilabel_confusion_matrix\n",
      "    y_type, y_true, y_pred = _check_targets(y_true, y_pred)\n",
      "  File \"/usr/lib/python_udf/8f8b01a8f02996ac566993cab9e8f275a40a273ccd1b40bc7e44bac11698e30b/lib/python3.9/site-packages/sklearn/metrics/_classification.py\", line 93, in _check_targets\n",
      "    raise ValueError(\n",
      "ValueError: Classification metrics can't handle a mix of unknown and multiclass targets\n",
      " in function SNOWPARK_TEMP_TABLE_FUNCTION_I0KPKP0GUB with handler compute\n"
     ]
    },
    {
     "name": "stderr",
     "output_type": "stream",
     "text": [
      "WARNING:snowflake.snowpark.session:The version of package 'scikit-learn' in the local environment is 1.3.2, which does not fit the criteria for the requirement 'scikit-learn<1.4'. Your UDF might not work when the package version is different between the server and your local environment.\n"
     ]
    },
    {
     "name": "stdout",
     "output_type": "stream",
     "text": [
      "(1300) (1304): 01b6cc42-070e-1713-0072-f30310708f2e: 100357 (P0000): Python Interpreter Error:\n",
      "Traceback (most recent call last):\n",
      "  File \"/opt/conda/lib/python3.9/site-packages/snowflake/ml/modeling/metrics/classification.py\", line 1059, in end_partition\n",
      "  File \"/usr/lib/python_udf/8f8b01a8f02996ac566993cab9e8f275a40a273ccd1b40bc7e44bac11698e30b/lib/python3.9/site-packages/sklearn/utils/_param_validation.py\", line 211, in wrapper\n",
      "    return func(*args, **kwargs)\n",
      "  File \"/usr/lib/python_udf/8f8b01a8f02996ac566993cab9e8f275a40a273ccd1b40bc7e44bac11698e30b/lib/python3.9/site-packages/sklearn/metrics/_classification.py\", line 505, in multilabel_confusion_matrix\n",
      "    y_type, y_true, y_pred = _check_targets(y_true, y_pred)\n",
      "  File \"/usr/lib/python_udf/8f8b01a8f02996ac566993cab9e8f275a40a273ccd1b40bc7e44bac11698e30b/lib/python3.9/site-packages/sklearn/metrics/_classification.py\", line 93, in _check_targets\n",
      "    raise ValueError(\n",
      "ValueError: Classification metrics can't handle a mix of unknown and multiclass targets\n",
      " in function SNOWPARK_TEMP_TABLE_FUNCTION_LIEWMT2UH0 with handler compute\n",
      "Calculating build time metrics\n",
      "\n",
      "Progress: ██████████████████████████████████████████                             60.0%\n",
      "Calculating build time metrics\n",
      "\n",
      "Progress: ████████████████████████████████████████████████████████               80.0%\n",
      "Calculating build time metrics\n",
      "\n",
      "Progress: ██████████████████████████████████████████████████████████████████████ 100.0%\n"
     ]
    },
    {
     "data": {
      "text/plain": [
       "\"Model 'MODEL_BDB4A35C_1386_4E11_A417_3344FF06266B_FDC_DECISION_TREE_CLUSTER_CLASSIFIER' registered successfully.\""
      ]
     },
     "execution_count": 26,
     "metadata": {},
     "output_type": "execute_result"
    }
   ],
   "source": [
    "## registering the model in Fosfor Insight Designer.\n",
    "register_model(\n",
    "    model_obj=clf, \n",
    "    session=my_session,\n",
    "    x_train=X_train,\n",
    "    y_train=y_train,\n",
    "    x_test=X_test,\n",
    "    y_test=y_test,\n",
    "    y_pred=y_pred,\n",
    "    source=\"Notebook\",\n",
    "    dataset_name=\"CUSTOMER_DATA_INSIGHT_TEST_OUTPUT\",\n",
    "    dataset_source=\"Snowflake\",\n",
    "    #dataset_source=\"InMemory\",\n",
    "    name=\"Decision_Tree_Cluster_Classifier\",\n",
    "    description=\"Customer_Segmentation_Dtree_Cluster_Classifier\",\n",
    "    flavour=\"sklearn\",\n",
    "    model_type=\"classification\",\n",
    "    conda_dependencies=[\"scikit-learn==1.3.2\"]\n",
    ")"
   ]
  }
 ],
 "metadata": {
  "kernelspec": {
   "display_name": "Python 3 (ipykernel)",
   "language": "python",
   "name": "python3"
  },
  "language_info": {
   "codemirror_mode": {
    "name": "ipython",
    "version": 3
   },
   "file_extension": ".py",
   "mimetype": "text/x-python",
   "name": "python",
   "nbconvert_exporter": "python",
   "pygments_lexer": "ipython3",
   "version": "3.9.19"
  }
 },
 "nbformat": 4,
 "nbformat_minor": 5
}
